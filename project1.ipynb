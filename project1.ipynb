{
 "cells": [
  {
   "cell_type": "markdown",
   "metadata": {},
   "source": [
    "# Project 1\n",
    "\n",
    "The Lorenz equations show deterministic non-periodic behavior, or chaos.  One aspect of this behavior is the system's sensitive dependence on initial conditions, which has been termed \"the butterfly effect\" and has been discussed\n",
    "and used in many books and movies.  The Lorenz equations are:\n",
    "\n",
    "\\begin{align}\n",
    "   \\frac{{\\rm d}x(t)}{{\\rm d}t} &= \\sigma (y(t) -x(t)) \\\\\n",
    "   \\frac{{\\rm d}y(t)}{{\\rm d}t} &= x(t) (\\rho - z(t)) - y(t) \\\\\n",
    "   \\frac{{\\rm d}z(t)}{{\\rm d}t} &= x(t)y(t) - \\beta z(t)\n",
    "\\end{align}\n",
    "\n",
    "where $\\sigma, \\rho$ and $\\beta$ are constants, $x, y$, and $z$ are dependent variables and $t$ is time.  In this problem you will integrate the Lorenz equations in time for different values of $\\rho$ and different initial conditions in order to see the butterfly effect for yourself.\n",
    "\n",
    "1. Complete the Python class `Lorenz()` to integrate the Lorenz equations with different initial conditions.  The values of $\\sigma$, $\\beta$, and $\\rho$ should be set as arguments to the class and the initial conditions vector to $[x_0, 1, 0]$ where $x_0$ is given as an argument to the class function `solve()` which should return the solution.\n",
    " \n",
    "    **Hint**: Google `scipy.integrate.odeint`.  \n",
    "\n",
    "2. Set $\\sigma=10$, $\\beta=8/3$, and $\\rho =14$ and integrate the Lorenz equation twice, with $x_0 = 0$, and then with $x_0 = 1 \\times 10^{-5}$.  Use subscript $1$ for the result when $x_0 = 0$ and subscript $2$ for the result when $x_0 = 1 \\times 10^{-5}$ .  For this value of $\\rho$, the behavior of the system is called a stable limit cycle.\n",
    " \n",
    "   Using `matplotlib`, make three plots:\n",
    "\n",
    "     a. $x_1(t)$ and $x_2(t)$ as a function of $t$ \n",
    "    \n",
    "     b. the absolute value of the difference $x_1(t) - x_2(t)$ as a function of $t$\n",
    "\n",
    "     c. $z_1$ as a function of $x_1$, which is called a phase plot\n",
    "\n",
    "1. Repeat Steps 2 and 3 above with $\\rho = 28$.  For the value of $\\rho$, the behavior of the system is called a strange attractor.  The second plot of the absolute value of the difference of $x_1(t) - x_2(t)$ demonstrates the butterfly effect.\n",
    "\n",
    "1. Complete the function `plot()` so that 2 and 3 above automatically (without any arguments) create the following plot.\n",
    "\n",
    "   ![Lorenz solutions](lorenz_gold.png)"
   ]
  },
  {
   "cell_type": "code",
   "execution_count": 1,
   "metadata": {},
   "outputs": [],
   "source": [
    "import numpy as np\n",
    "import scipy.integrate\n",
    "\n",
    "import matplotlib\n",
    "import matplotlib.pyplot as plt\n",
    "\n",
    "class Lorenz(object):\n",
    "    \n",
    "    def __init__(self, sigma, beta, rho):\n",
    "        \n",
    "        self.sigma = sigma\n",
    "        self.beta = beta\n",
    "        self.rho = rho\n",
    "        \n",
    "        self.t = np.linspace(0,100,num=10000)\n",
    "\n",
    "    \n",
    "    def solve(self, x0):\n",
    "       \n",
    "        return\n",
    "    \n",
    "    \n",
    "    def plot(self, figname=None):\n",
    "        \n",
    "        \n",
    "        if figname is not None:\n",
    "            plt.savefig(figname, bbox_inches='tight')"
   ]
  },
  {
   "cell_type": "code",
   "execution_count": 3,
   "metadata": {},
   "outputs": [],
   "source": [
    "#%matplotlib inline\n",
    "#l = Lorenz(0,0,0)\n",
    "#l.plot('lorenz_gold.png')"
   ]
  }
 ],
 "metadata": {
  "kernelspec": {
   "display_name": "Python 3",
   "language": "python",
   "name": "python3"
  },
  "language_info": {
   "codemirror_mode": {
    "name": "ipython",
    "version": 3
   },
   "file_extension": ".py",
   "mimetype": "text/x-python",
   "name": "python",
   "nbconvert_exporter": "python",
   "pygments_lexer": "ipython3",
   "version": "3.8.1"
  }
 },
 "nbformat": 4,
 "nbformat_minor": 4
}
